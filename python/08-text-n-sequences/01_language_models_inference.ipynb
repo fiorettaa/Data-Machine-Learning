{
  "cells": [
    {
      "cell_type": "markdown",
      "metadata": {
        "id": "I06LmUlDIrKz",
        "outputId": "557bdeef-ae08-4cee-92ce-9afc46bbb34a"
      },
      "source": [
        "# Large Language Models - Inference\n",
        "\n",
        "For references, see [here](https://huggingface.co/tasks/text-generation) and [here](https://huggingface.co/docs/transformers/generation_strategies).\n",
        "\n",
        "This notebook is originally from [Jérémie C. Wegner](https://jeremiewenger.com/about/). Slight modifications have been applied to it.\n",
        "\n",
        "## Workflow\n",
        "\n",
        "#### Drive\n",
        "\n",
        "If you need to load/save to your drive:\n",
        "\n",
        "```python\n",
        "import sys\n",
        "if 'google.colab' in sys.modules:\n",
        "    from google.colab import drive\n",
        "    drive.mount('/content/drive/')\n",
        "\n",
        "import os\n",
        "os.chdir('drive/My Drive/DMLAP-2025/python') # to change to another directory\n",
        "```\n",
        "\n",
        "#### Huggingface login\n",
        "\n",
        "For some models and datasets, and if you want to push your model to HF (same as GitHub, but for models) you need to be logged into your HF account.\n",
        "\n",
        "For that, you need to create an account [here](https://huggingface.co/) and then to ['/settings/tokens'](https://huggingface.co/settings/tokens) to create an access token.\n",
        "\n",
        "```python\n",
        "from pathlib import Path\n",
        "from huggingface_hub import notebook_login\n",
        "if not (Path.home()/'.huggingface'/'token').exists():\n",
        "    notebook_login()\n",
        "```\n",
        "\n",
        "#### Install\n",
        "\n",
        "1. On Colab, you might need to install `transformers`:\n",
        "\n",
        "```python\n",
        "!pip install -Uq transformers\n",
        "```\n",
        "\n",
        "2. Locally, use your dmlap environment and install the extra dependencies provided below."
      ]
    },
    {
      "cell_type": "code",
      "execution_count": null,
      "metadata": {
        "id": "q65pHZMH5XFs"
      },
      "outputs": [],
      "source": [
        "# !pip install --upgrade transformers diffusers datasets accelerate"
      ]
    },
    {
      "cell_type": "code",
      "execution_count": 2,
      "metadata": {
        "id": "URjvsuUyIthY"
      },
      "outputs": [],
      "source": [
        "import torch\n",
        "\n",
        "from transformers import pipeline\n",
        "from transformers import GenerationConfig\n",
        "\n",
        "from transformers import GPT2Tokenizer\n",
        "from transformers import GPT2LMHeadModel"
      ]
    },
    {
      "cell_type": "code",
      "execution_count": 3,
      "metadata": {
        "id": "A0x9SoJh5XFu",
        "outputId": "6eff023e-403b-4d42-ca09-336c2a3946c0",
        "colab": {
          "base_uri": "https://localhost:8080/",
          "height": 35
        }
      },
      "outputs": [
        {
          "output_type": "execute_result",
          "data": {
            "text/plain": [
              "'cuda'"
            ],
            "application/vnd.google.colaboratory.intrinsic+json": {
              "type": "string"
            }
          },
          "metadata": {},
          "execution_count": 3
        }
      ],
      "source": [
        "# Get cpu, gpu or mps device for training.\n",
        "# See: https://pytorch.org/tutorials/beginner/basics/quickstart_tutorial.html#creating-models\n",
        "device = (\n",
        "    \"cuda\"\n",
        "    if torch.cuda.is_available()\n",
        "    else \"mps\"\n",
        "    if torch.backends.mps.is_available()\n",
        "    else \"cpu\"\n",
        ")\n",
        "\n",
        "device"
      ]
    },
    {
      "cell_type": "code",
      "execution_count": null,
      "metadata": {
        "id": "RgRDJqcK5XFv",
        "tags": []
      },
      "outputs": [],
      "source": [
        "import textwrap # The textwrap module automatically formats text for you\n",
        "\n",
        "tw = textwrap.TextWrapper(   # many more options, see them with textwrap.TextWrapper?\n",
        "    width=79,                # the formatted width we want\n",
        "    replace_whitespace=False # this will keep whitespace & line breaks in the original text\n",
        ")\n",
        "\n",
        "def wrap_print(s):\n",
        "    \"\"\"Format text into Textwrapped lines and print it\"\"\"\n",
        "    print(\"\\n\".join(tw.wrap(s)))"
      ]
    },
    {
      "cell_type": "code",
      "execution_count": null,
      "metadata": {
        "id": "W9Tf3fn2Z_DV"
      },
      "outputs": [],
      "source": [
        "generator = pipeline(\n",
        "    'text-generation', # the specific task, which is also the tag on huggingface\n",
        "    model='gpt2',      # so many more models here: https://huggingface.co/models?pipeline_tag=text-generation&sort=downloads\n",
        "    device=device      # the default is just cpu, see here: https://huggingface.co/docs/transformers/pipeline_tutorial#device\n",
        ")"
      ]
    },
    {
      "cell_type": "markdown",
      "metadata": {
        "id": "GE19dcaX5XFw"
      },
      "source": [
        "See [here](https://huggingface.co/docs/transformers/main_classes/text_generation#transformers.GenerationConfig.from_pretrained.example) for an example using `GenerationConfig` and [here](https://github.com/huggingface/transformers/issues/19853#issuecomment-1290759818) for the `pad_token_id` fix."
      ]
    },
    {
      "cell_type": "code",
      "execution_count": null,
      "metadata": {
        "id": "sueT3i6MfM8d"
      },
      "outputs": [],
      "source": [
        "generation_config = GenerationConfig.from_pretrained(\"gpt2\")\n",
        "generation_config.pad_token_id = generation_config.eos_token_id"
      ]
    },
    {
      "cell_type": "markdown",
      "metadata": {
        "id": "tVIs-VhOQN6O"
      },
      "source": [
        "The Huggingface is transitioning towards the use of generation config files (good for automation)."
      ]
    },
    {
      "cell_type": "code",
      "execution_count": null,
      "metadata": {
        "id": "0fZaJdUnPg7E"
      },
      "outputs": [],
      "source": [
        "generation_config.max_length = 25\n",
        "generation_config.do_sample = True\n",
        "generation_config.top_p = 0.95\n",
        "generation_config.temperature = .9"
      ]
    },
    {
      "cell_type": "markdown",
      "metadata": {
        "id": "BW2UOpO2QAFD"
      },
      "source": [
        "### Quick vocab note:\n",
        "\n",
        "`bos`: beginning of sentence  \n",
        "`eos`: end of sentence  \n",
        "`pad`: padding\n",
        "\n",
        "These are special tokens that have been inserted into the text at training time.\n",
        "\n",
        "For instance, in our case the 'beginning' of the text is 'endoftext', as during training the texts are fed to the network one after the other, with this special token between them:\n",
        "```python\n",
        "print(generator.tokenizer.bos_token) # '<|endoftext|>'\n",
        "```"
      ]
    },
    {
      "cell_type": "code",
      "execution_count": null,
      "metadata": {
        "id": "q4NioPo5fSVu"
      },
      "outputs": [],
      "source": [
        "generation_config"
      ]
    },
    {
      "cell_type": "code",
      "execution_count": null,
      "metadata": {
        "id": "61kgReONYBT5"
      },
      "outputs": [],
      "source": [
        "# torch.manual_seed(1)\n",
        "generator(\n",
        "    \"Once upon a time,\",\n",
        "    generation_config=generation_config\n",
        ")"
      ]
    },
    {
      "cell_type": "markdown",
      "metadata": {
        "id": "McOEE98ITaoz"
      },
      "source": [
        "Parallel generation!"
      ]
    },
    {
      "cell_type": "code",
      "execution_count": null,
      "metadata": {
        "id": "40-Zwu0ETWnW"
      },
      "outputs": [],
      "source": [
        "# torch.manual_seed(1)\n",
        "generator(\n",
        "    [\"Once upon a time,\"] * 2,\n",
        "    generation_config=generation_config\n",
        ")"
      ]
    },
    {
      "cell_type": "markdown",
      "metadata": {
        "id": "K3s8ntFfeB30"
      },
      "source": [
        "---\n",
        "\n",
        "## Deeper\n",
        "\n",
        "What does the pipeline do under the hood?"
      ]
    },
    {
      "cell_type": "code",
      "execution_count": null,
      "metadata": {
        "id": "2EzS8SV5ccuu"
      },
      "outputs": [],
      "source": [
        "tokenizer = GPT2Tokenizer.from_pretrained(\"gpt2\")\n",
        "model = GPT2LMHeadModel.from_pretrained(\n",
        "    \"gpt2\",\n",
        "    pad_token_id=tokenizer.eos_token_id # add the EOS token as PAD token to avoid warnings\n",
        ").to(device) # to GPU/MPS/CPU"
      ]
    },
    {
      "cell_type": "markdown",
      "metadata": {
        "id": "i6_9iKN7Wqps"
      },
      "source": [
        "### Note\n",
        "\n",
        "Huggingface automates everything, so instead of `GPT2LMHeadModel` and `GPT2Tokenizer` you can use `AutoModelForCausalLM`, `AutoTokenizer`.\n",
        "\n",
        "```python\n",
        "from transformers import AutoModelForCausalLM, AutoTokenizer\n",
        "tokenizer = AutoTokenizer.from_pretrained(\"gpt2\")\n",
        "model = AutoModelForCausalLM.from_pretrained(\"gpt2\", pad_token_id=tokenizer.eos_token_id).to(device)\n",
        "```\n",
        "\n",
        "The automation of the right choice of model architecture by the Huggingface library has become so popular that these autoclasses are used almost everywhere now."
      ]
    },
    {
      "cell_type": "markdown",
      "metadata": {
        "id": "YXJjd_kEREkS"
      },
      "source": [
        "### The tokenizer\n",
        "\n",
        "See [the Preprocess](https://huggingface.co/docs/transformers/preprocessing) tutorial on Huggingface for more details."
      ]
    },
    {
      "cell_type": "code",
      "execution_count": null,
      "metadata": {
        "id": "ddqPQPE_SEOA"
      },
      "outputs": [],
      "source": [
        "toks = tokenizer.encode(\"Oh sweet midnight\")\n",
        "print(toks)\n",
        "print(tokenizer.decode(toks))\n",
        "print()\n",
        "\n",
        "toks = tokenizer([\"Oh sweet midnight\", \"harbinger of doom\"])\n",
        "print(toks)\n",
        "print(tokenizer.batch_decode(toks['input_ids']))"
      ]
    },
    {
      "cell_type": "code",
      "execution_count": null,
      "metadata": {
        "id": "gju_L3gKVN4j"
      },
      "outputs": [],
      "source": [
        "input_ids = tokenizer.encode('Once upon a time', return_tensors='pt') # pytorch tensors\n",
        "print(input_ids)\n",
        "\n",
        "batched_input_ids = torch.tile(input_ids, (4,1)).to(device) # just copying the tensor 4 times\n",
        "print(batched_input_ids)"
      ]
    },
    {
      "cell_type": "code",
      "execution_count": null,
      "metadata": {
        "id": "vVKQUtN9eEpW"
      },
      "outputs": [],
      "source": [
        "# encode context the generation is conditioned on\n",
        "input_ids = tokenizer.encode('Once upon a time', return_tensors='pt') # pytorch tensors\n",
        "\n",
        "batched_input_ids = torch.tile(input_ids, (4,1)).to(device) # copy and place on GPU/MPS/CPU for 4 iterations\n",
        "\n",
        "# same logic as before\n",
        "generation_config = GenerationConfig.from_pretrained(\"gpt2\")\n",
        "generation_config.pad_token_id = generation_config.eos_token_id\n",
        "generation_config.max_length = 25\n",
        "generation_config.do_sample = True\n",
        "generation_config.top_p = 0.95\n",
        "generation_config.temperature = .9\n",
        "\n",
        "# generate text until the output length (which includes the context length) reaches 50\n",
        "output = model.generate(\n",
        "    batched_input_ids, # try input_ids as well for a single strand\n",
        "    generation_config=generation_config,\n",
        ")"
      ]
    },
    {
      "cell_type": "code",
      "execution_count": null,
      "metadata": {
        "id": "ibq2IrdhhSAH"
      },
      "outputs": [],
      "source": [
        "texts = tokenizer.batch_decode(output, skip_special_tokens=True)\n",
        "\n",
        "for t in texts:\n",
        "    wrap_print(t)\n",
        "    print(\"-\" * 40)"
      ]
    },
    {
      "cell_type": "markdown",
      "metadata": {
        "id": "rb5OrcIawrY0"
      },
      "source": [
        "Observe how `skip_special_tokens` acts upon the decode process:"
      ]
    },
    {
      "cell_type": "code",
      "execution_count": null,
      "metadata": {
        "id": "W_9nzVLswrY0"
      },
      "outputs": [],
      "source": [
        "input_ids = tokenizer.encode('Once upon a time', return_tensors='pt')\n",
        "print(input_ids)\n",
        "\n",
        "output = tokenizer.decode([50256, 7454, 2402,  257,  640, 50256])  # GPT-2's <|endoftext|> token = 50256\n",
        "print(output)\n",
        "\n",
        "output = tokenizer.decode([50256, 7454, 2402,  257,  640, 50256], skip_special_tokens=True)"
      ]
    },
    {
      "cell_type": "markdown",
      "metadata": {
        "id": "U18eRLBbXAot"
      },
      "source": [
        "---\n",
        "\n",
        "# Experiments\n",
        "\n",
        "1. Test everything! Make sure you understand and develop an intuition of:\n",
        " - the various parameters: `temperature`, `top_k`, `top_p`;\n",
        " - the `tokenizer` object to convert text into tokens and back;\n",
        " - how to handle the whole pipeline;\n",
        "   Also, you can search for different [models](https://huggingface.co/models?pipeline_tag=text-generation&sort=downloads)! (Some of them may exceed your GPU capacity, beware). People have finetuned language models on many types of texts.\n",
        "2. Can you think of a way to introduce computational thinking into this? Ideas:\n",
        "  - First, you could explore ways of making things look nicer? Instead of just having a list of objects? You could write a nice print function that knows exactly how to take the model output and print it in a nice way. The specialised Python package with many text functionalities is [textwrap](https://docs.python.org/3/library/textwrap.html). See also [here](https://www.geeksforgeeks.org/textwrap-text-wrapping-filling-python/).\n",
        "  - Can you think of ways to construct a writing **loop**? By that, I mean:  \n",
        "    a. Prepare prompt  \n",
        "    b. Generate one or more strands of text  \n",
        "    c. Select text from strands, go back to a.  \n",
        "    This could simply mean writing a system of helper functions and classes to assist you in the writing...\n",
        "  - One could imagine all sorts of strange ways to work with text, from programmatically chunking the generated text and scrambling it before using it again as a prompt, to explore what the model does if you use unreasonable parameters (e.g. a very high or low `temperature`).\n",
        "  - Also, can you think of ways to work with various strands of text (Taking advantage of the fact that a model can generate in parallel)?\n",
        "\n",
        "3. Something that has already been the subject of a lot of debate and controversy, is the exploration of the *biases* of the models (and there are tons!). GPT-2 was trained mostly on Internet text, top-ranked reddit posts, etc. (see [this open-source replication](https://github.com/jcpeterson/openwebtext)). Unsurprisingly, the topics and points of view reflect that corner of human activities. Could you reflect on that?"
      ]
    },
    {
      "cell_type": "code",
      "execution_count": null,
      "metadata": {
        "id": "X0-yp1_S8iCQ"
      },
      "outputs": [],
      "source": []
    }
  ],
  "metadata": {
    "accelerator": "GPU",
    "colab": {
      "provenance": []
    },
    "kernelspec": {
      "display_name": "Python 3 (ipykernel)",
      "language": "python",
      "name": "python3"
    },
    "language_info": {
      "codemirror_mode": {
        "name": "ipython",
        "version": 3
      },
      "file_extension": ".py",
      "mimetype": "text/x-python",
      "name": "python",
      "nbconvert_exporter": "python",
      "pygments_lexer": "ipython3",
      "version": "3.9.18"
    }
  },
  "nbformat": 4,
  "nbformat_minor": 0
}